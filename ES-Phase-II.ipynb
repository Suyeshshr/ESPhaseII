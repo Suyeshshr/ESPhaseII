{
 "cells": [
  {
   "cell_type": "markdown",
   "id": "160b2872",
   "metadata": {},
   "source": [
    "## Phase II:\n",
    "#### The s3 folder system will be date wise for eg: “09-25-2021”, “09-26-2021”. (Future dates) [Manual]\n",
    "* Each folder will have data equivalent to 1 million\n",
    "* Create a cron job/scheduler/airflow that will read today’s date folder and index to Elasticsearch.* \n",
    "* Create an API using python that receives the parameters called date and copies the given date folder to Elasticsearch. Eg: (http://localhost:8888/data-ingest?date=09-25-2021)\n"
   ]
  },
  {
   "cell_type": "code",
   "execution_count": 1,
   "id": "c9cb41ff",
   "metadata": {},
   "outputs": [
    {
     "name": "stdout",
     "output_type": "stream",
     "text": [
      "Requirement already satisfied: smart_open in /home/suyesh/.local/lib/python3.9/site-packages (5.2.1)\r\n"
     ]
    }
   ],
   "source": [
    "!pip install smart_open"
   ]
  },
  {
   "cell_type": "code",
   "execution_count": 1,
   "id": "44c22c02",
   "metadata": {},
   "outputs": [],
   "source": [
    "import os\n",
    "import pandas as pd\n",
    "from smart_open import smart_open\n",
    "\n",
    "try:\n",
    "    import boto3\n",
    "except Exception as e:\n",
    "    print(e)\n",
    "with open(\"secret.txt\",\"r\") as f:\n",
    "    data = f.readlines()\n",
    "    aws_key=data[0].strip(\"\\n\")\n",
    "    aws_secret=data[1].strip(\"\\n\")\n",
    "\n"
   ]
  },
  {
   "cell_type": "code",
   "execution_count": 2,
   "id": "f05e38a0",
   "metadata": {},
   "outputs": [],
   "source": [
    "client=boto3.client(\"s3\",\n",
    "                   aws_access_key_id=aws_key,\n",
    "                   aws_secret_access_key=aws_secret,\n",
    "                   region_name=\"us-west-1\")"
   ]
  },
  {
   "cell_type": "code",
   "execution_count": 44,
   "id": "e69a41f8",
   "metadata": {},
   "outputs": [],
   "source": [
    "from datetime import date\n",
    "today = date.today()\n",
    "# Current date time in local system\n",
    "date=today.strftime(\"%-m-%-d-%Y\")"
   ]
  },
  {
   "cell_type": "code",
   "execution_count": 45,
   "id": "2ba96116",
   "metadata": {},
   "outputs": [],
   "source": [
    "paginator=client.get_paginator('list_objects_v2')\n",
    "pages=paginator.paginate(Bucket='suyesh-es-task-26102021',Prefix=date+'/')"
   ]
  },
  {
   "cell_type": "code",
   "execution_count": 48,
   "id": "3f81d2fe",
   "metadata": {},
   "outputs": [
    {
     "data": {
      "text/plain": [
       "'11-3-2021/part-00000-614cf801-8141-4f35-aeb7-472cd6b25fdb-c000.json'"
      ]
     },
     "execution_count": 48,
     "metadata": {},
     "output_type": "execute_result"
    }
   ],
   "source": [
    "tmp=[]\n",
    "for page in pages:\n",
    "    for obj in page['Contents']:\n",
    "        if(obj['Key'].endswith('.json')):\n",
    "            tmp.append(obj['Key'])\n"
   ]
  },
  {
   "cell_type": "code",
   "execution_count": null,
   "id": "79268e8b",
   "metadata": {},
   "outputs": [],
   "source": []
  },
  {
   "cell_type": "code",
   "execution_count": 3,
   "id": "358d8852",
   "metadata": {},
   "outputs": [],
   "source": [
    "bucket_name = 'suyesh-es-task-26102021'\n",
    "object_key ='11-4-2021/part-00000-680cf244-5c4f-4fd4-a216-b1aa996d01e3-c000.json'"
   ]
  },
  {
   "cell_type": "code",
   "execution_count": null,
   "id": "be265473",
   "metadata": {},
   "outputs": [],
   "source": [
    "path = 's3://{}:{}@{}/{}'.format(aws_key, aws_secret, bucket_name, object_key)\n",
    "\n",
    "df = pd.read_json(smart_open(path), lines=True)\n",
    "df.head()"
   ]
  },
  {
   "cell_type": "code",
   "execution_count": 1,
   "id": "f242d44b",
   "metadata": {},
   "outputs": [],
   "source": [
    "import pandas as pd\n",
    "from elasticsearch import Elasticsearch\n",
    "from elasticsearch import helpers"
   ]
  },
  {
   "cell_type": "code",
   "execution_count": 2,
   "id": "ef6f0400",
   "metadata": {},
   "outputs": [],
   "source": [
    "# Elastic search configuation\n",
    "ENDPOINT=\"http://localhost:9200/\"\n",
    "es=Elasticsearch(timeout=600,hosts=ENDPOINT)\n"
   ]
  },
  {
   "cell_type": "code",
   "execution_count": 59,
   "id": "c7bc4a80",
   "metadata": {},
   "outputs": [],
   "source": [
    "df = df.where(pd.notnull(df), None)"
   ]
  },
  {
   "cell_type": "code",
   "execution_count": 60,
   "id": "20ee5235",
   "metadata": {},
   "outputs": [],
   "source": [
    "documents = df.to_dict(orient='records')\n"
   ]
  },
  {
   "cell_type": "code",
   "execution_count": 61,
   "id": "45bbf189",
   "metadata": {},
   "outputs": [
    {
     "data": {
      "text/plain": [
       "1000000"
      ]
     },
     "execution_count": 61,
     "metadata": {},
     "output_type": "execute_result"
    }
   ],
   "source": [
    "len(documents)"
   ]
  },
  {
   "cell_type": "code",
   "execution_count": 62,
   "id": "7f775e21",
   "metadata": {},
   "outputs": [
    {
     "data": {
      "text/plain": [
       "{'category_id': 2053013552259662037,\n",
       " 'event_time': Timestamp('2019-10-01 16:56:42+0000', tz='UTC'),\n",
       " 'event_type': 'view',\n",
       " 'price': 224.19,\n",
       " 'product_id': 8500421,\n",
       " 'user_id': 526731152,\n",
       " 'user_session': 'c5889654-8f52-4ea8-9429-81d4bf998670',\n",
       " 'category_code': None,\n",
       " 'brand': None}"
      ]
     },
     "execution_count": 62,
     "metadata": {},
     "output_type": "execute_result"
    }
   ],
   "source": [
    "documents[0]"
   ]
  },
  {
   "cell_type": "code",
   "execution_count": 3,
   "id": "016a79bb",
   "metadata": {},
   "outputs": [],
   "source": [
    "settings={\n",
    "    \"mappings\" : {\n",
    "      \"properties\" : {\n",
    "        \"id\" : {\n",
    "          \"type\" : \"long\"\n",
    "        },\n",
    "        \"timestamp\" : {\n",
    "          \"type\" : \"date\"\n",
    "        },\n",
    "        \"brand\" : {\n",
    "          \"type\" : \"text\",\n",
    "          \"fields\" : {\n",
    "            \"keyword\" : {\n",
    "              \"type\" : \"keyword\",\n",
    "              \"ignore_above\" : 256\n",
    "            }\n",
    "          }\n",
    "        },\n",
    "        \"category_code\" : {\n",
    "          \"type\" : \"text\",\n",
    "          \"fields\" : {\n",
    "            \"keyword\" : {\n",
    "              \"type\" : \"keyword\",\n",
    "              \"ignore_above\" : 256\n",
    "            }\n",
    "          }\n",
    "        },\n",
    "        \"category_id\" : {\n",
    "          \"type\" : \"long\"\n",
    "        },\n",
    "        \"event_time\" : {\n",
    "          \"type\" : \"date\"\n",
    "        },\n",
    "        \"event_type\" : {\n",
    "          \"type\" : \"text\",\n",
    "          \"fields\" : {\n",
    "            \"keyword\" : {\n",
    "              \"type\" : \"keyword\",\n",
    "              \"ignore_above\" : 256\n",
    "            }\n",
    "          }\n",
    "        },\n",
    "        \"price\" : {\n",
    "          \"type\" : \"float\"\n",
    "        },\n",
    "        \"product_id\" : {\n",
    "          \"type\" : \"long\"\n",
    "        },\n",
    "        \"user_id\" : {\n",
    "          \"type\" : \"long\"\n",
    "        },\n",
    "        \"user_session\" : {\n",
    "          \"type\" : \"text\",\n",
    "          \"fields\" : {\n",
    "            \"keyword\" : {\n",
    "              \"type\" : \"keyword\",\n",
    "              \"ignore_above\" : 256\n",
    "            }\n",
    "          }\n",
    "        }\n",
    "      }\n",
    "    }\n",
    "  \n",
    "}"
   ]
  },
  {
   "cell_type": "code",
   "execution_count": 4,
   "id": "cb8345c6",
   "metadata": {},
   "outputs": [
    {
     "name": "stderr",
     "output_type": "stream",
     "text": [
      "/tmp/ipykernel_4803/166438481.py:1: DeprecationWarning: The 'body' parameter is deprecated for the 'create' API and will be removed in 8.0.0. Instead use API parameters directly. See https://github.com/elastic/elasticsearch-py/issues/1698 for more information\n",
      "  es.indices.create(index='ecommerce',ignore=400,body=settings)\n",
      "/home/suyesh/.local/lib/python3.9/site-packages/elasticsearch/connection/base.py:209: ElasticsearchWarning: Elasticsearch built-in security features are not enabled. Without authentication, your cluster could be accessible to anyone. See https://www.elastic.co/guide/en/elasticsearch/reference/7.15/security-minimal-setup.html to enable security.\n",
      "  warnings.warn(message, category=ElasticsearchWarning)\n"
     ]
    },
    {
     "data": {
      "text/plain": [
       "{'acknowledged': True, 'shards_acknowledged': True, 'index': 'ecommerce'}"
      ]
     },
     "execution_count": 4,
     "metadata": {},
     "output_type": "execute_result"
    }
   ],
   "source": [
    "es.indices.create(index='ecommerce',ignore=400,body=settings)"
   ]
  },
  {
   "cell_type": "code",
   "execution_count": 20,
   "id": "b7614ce5",
   "metadata": {},
   "outputs": [
    {
     "name": "stderr",
     "output_type": "stream",
     "text": [
      "/tmp/ipykernel_20949/677982156.py:1: DeprecationWarning: Using positional arguments for APIs is deprecated and will be disabled in 8.0.0. Instead use only keyword arguments for all APIs. See https://github.com/elastic/elasticsearch-py/issues/1698 for more information\n",
      "  count=int(es.cat.count('ecommerce', params={\"format\": \"json\"})[0]['count'])\n",
      "/tmp/ipykernel_20949/677982156.py:10: DeprecationWarning: The 'body' parameter is deprecated for the 'search' API and will be removed in 8.0.0. Instead use API parameters directly. See https://github.com/elastic/elasticsearch-py/issues/1698 for more information\n",
      "  res = es.search(index=\"ecommerce\", body=body)\n"
     ]
    }
   ],
   "source": [
    "count=int(es.cat.count('ecommerce', params={\"format\": \"json\"})[0]['count'])\n",
    "body={\n",
    "   \"size\": 1,\n",
    "   \"sort\": { \"id\": \"desc\"},\n",
    "   \"query\": {\n",
    "      \"match_all\": {}\n",
    "   }\n",
    "}\n",
    "if(count!=0):\n",
    "    res = es.search(index=\"ecommerce\", body=body)\n",
    "    i=int(res['hits']['hits'][0][\"_source\"]['id'])+1\n",
    "else:\n",
    "    i=0\n",
    "    "
   ]
  },
  {
   "cell_type": "code",
   "execution_count": 21,
   "id": "1262b810",
   "metadata": {},
   "outputs": [
    {
     "data": {
      "text/plain": [
       "1000000"
      ]
     },
     "execution_count": 21,
     "metadata": {},
     "output_type": "execute_result"
    }
   ],
   "source": [
    "i"
   ]
  },
  {
   "cell_type": "code",
   "execution_count": 8,
   "id": "00f04ba4",
   "metadata": {},
   "outputs": [],
   "source": [
    "#defining schma for ecommerce\n",
    "def ecommerce(i):\n",
    "\n",
    "    print(i)"
   ]
  },
  {
   "cell_type": "code",
   "execution_count": 67,
   "id": "5a14b970",
   "metadata": {},
   "outputs": [],
   "source": [
    "#defining schma for ecommerce\n",
    "def ecommerce(df,i):\n",
    "    print(i)\n",
    "    for line in df:\n",
    "        if(line.get('brand')== None):\n",
    "            brand=None\n",
    "        else:\n",
    "            brand=line.get('brand')\n",
    "            \n",
    "        if(line.get('category_code')== None):\n",
    "            category_code=None\n",
    "        else:\n",
    "            category_code=line.get('category_code')\n",
    "\n",
    "        yield{\n",
    "            '_index':'ecommerce',\n",
    "            '_type':'_doc',\n",
    "            '_id':i,\n",
    "            '_source':{\n",
    "                'brand':brand,\n",
    "                'category_id':line.get('category_id',''),\n",
    "                'event_time':line.get('event_time',''),\n",
    "                'event_type':line.get('event_type',''),\n",
    "                'price':line.get('price',''),\n",
    "                'product_id':line.get('product_id',''),\n",
    "                'user_id':line.get('user_id',''),\n",
    "                'user_session':line.get('user_session',''),\n",
    "                'category_code':category_code\n",
    "\n",
    "            }\n",
    "        \n",
    "            \n",
    "\n",
    "        }\n",
    "        i=i+1\n",
    "    print(i)"
   ]
  },
  {
   "cell_type": "code",
   "execution_count": 9,
   "id": "aa32edb1",
   "metadata": {},
   "outputs": [
    {
     "name": "stdout",
     "output_type": "stream",
     "text": [
      "1000000\n"
     ]
    }
   ],
   "source": [
    "# attempt to index the dictionary entries using the helpers.bulk() method\n",
    "try:\n",
    "    print (\"\\nAttempting to index the list of docs using helpers.bulk()\")\n",
    "\n",
    "    # use the helpers library's Bulk API to index list of Elasticsearch docs\n",
    "    resp = helpers.bulk(\\\n",
    "    es,\\\n",
    "    ecommerce(documents,i),\\\n",
    "    index = \"ecommerce\",\\\n",
    "    doc_type = \"_doc\"\n",
    "    )\n",
    "    print(\"done\")\n",
    "\n",
    "except Exception as err:\n",
    "    print(err)"
   ]
  },
  {
   "cell_type": "code",
   "execution_count": 24,
   "id": "61b66313",
   "metadata": {},
   "outputs": [
    {
     "name": "stderr",
     "output_type": "stream",
     "text": [
      "/tmp/ipykernel_6224/845805730.py:1: DeprecationWarning: Using positional arguments for APIs is deprecated and will be disabled in 8.0.0. Instead use only keyword arguments for all APIs. See https://github.com/elastic/elasticsearch-py/issues/1698 for more information\n",
      "  int(es.cat.count('bla', params={\"format\": \"json\"})[0]['count'])\n"
     ]
    },
    {
     "data": {
      "text/plain": [
       "0"
      ]
     },
     "execution_count": 24,
     "metadata": {},
     "output_type": "execute_result"
    }
   ],
   "source": []
  },
  {
   "cell_type": "code",
   "execution_count": 31,
   "id": "015541cf",
   "metadata": {},
   "outputs": [],
   "source": []
  },
  {
   "cell_type": "code",
   "execution_count": 32,
   "id": "7851a114",
   "metadata": {},
   "outputs": [
    {
     "name": "stderr",
     "output_type": "stream",
     "text": [
      "/tmp/ipykernel_6224/4175245481.py:1: DeprecationWarning: The 'body' parameter is deprecated for the 'search' API and will be removed in 8.0.0. Instead use API parameters directly. See https://github.com/elastic/elasticsearch-py/issues/1698 for more information\n",
      "  res = es.search(index=\"ecommerce\", body=body)\n",
      "/home/suyesh/.local/lib/python3.9/site-packages/elasticsearch/connection/base.py:209: ElasticsearchWarning: Loading the fielddata on the _id field is deprecated and will be removed in future versions. If you require sorting or aggregating on this field you should also include the id in the body of your documents, and map this field as a keyword field that has [doc_values] enabled\n",
      "  warnings.warn(message, category=ElasticsearchWarning)\n"
     ]
    }
   ],
   "source": []
  },
  {
   "cell_type": "code",
   "execution_count": 37,
   "id": "daf010e2",
   "metadata": {},
   "outputs": [
    {
     "data": {
      "text/plain": [
       "'999999'"
      ]
     },
     "execution_count": 37,
     "metadata": {},
     "output_type": "execute_result"
    }
   ],
   "source": []
  },
  {
   "cell_type": "code",
   "execution_count": null,
   "id": "d419a3e5",
   "metadata": {},
   "outputs": [],
   "source": []
  }
 ],
 "metadata": {
  "kernelspec": {
   "display_name": "elasticSearch",
   "language": "python",
   "name": "elasticsearch"
  },
  "language_info": {
   "codemirror_mode": {
    "name": "ipython",
    "version": 3
   },
   "file_extension": ".py",
   "mimetype": "text/x-python",
   "name": "python",
   "nbconvert_exporter": "python",
   "pygments_lexer": "ipython3",
   "version": "3.9.5"
  }
 },
 "nbformat": 4,
 "nbformat_minor": 5
}
